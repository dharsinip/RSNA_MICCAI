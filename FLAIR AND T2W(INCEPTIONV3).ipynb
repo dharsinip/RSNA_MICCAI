{
 "cells": [
  {
   "cell_type": "code",
   "execution_count": 1,
   "id": "073d8ed0",
   "metadata": {},
   "outputs": [],
   "source": [
    "import os\n",
    "import PIL\n",
    "from PIL import Image\n",
    "import numpy as np\n",
    "import csv\n",
    "import shutil\n",
    "import random\n",
    "import glob\n",
    "\n",
    "import tensorflow as tf\n",
    "from tensorflow.keras import layers\n",
    "from tensorflow.keras.optimizers import RMSprop\n",
    "from tensorflow.keras.preprocessing.image import ImageDataGenerator\n",
    "from keras.models import Sequential, save_model, load_model\n",
    "from tensorflow.keras.preprocessing import image\n",
    "import matplotlib.pyplot as plt\n",
    "import matplotlib.image as img\n",
    "import cv2\n",
    "from tensorflow.keras.applications.inception_v3 import InceptionV3"
   ]
  },
  {
   "cell_type": "code",
   "execution_count": 2,
   "id": "766b2099",
   "metadata": {},
   "outputs": [],
   "source": [
    "path = []\n",
    "for file in os.listdir('Dataset - Copy (2)/train'):\n",
    "    d = os.path.join('Dataset - Copy (2)/train', file)\n",
    "    if os.path.isdir(d):\n",
    "        path.append(str(d))"
   ]
  },
  {
   "cell_type": "code",
   "execution_count": 3,
   "id": "7505a334",
   "metadata": {},
   "outputs": [
    {
     "name": "stdout",
     "output_type": "stream",
     "text": [
      "582\n"
     ]
    }
   ],
   "source": [
    "print(len(path))"
   ]
  },
  {
   "cell_type": "code",
   "execution_count": 4,
   "id": "a4275b5c",
   "metadata": {},
   "outputs": [],
   "source": [
    "image_path = []\n",
    "for i in range (len(path)):\n",
    "    for file in os.listdir(path[i] + '/FLAIR'):\n",
    "        x = os.path.join(path[i] + '/FLAIR', file)\n",
    "        image_path.append(str(x))\n",
    "        \n",
    "for i in range (len(path)):\n",
    "    for file in os.listdir(path[i] + '/T2w'):\n",
    "        x = os.path.join(path[i] + '/T2w', file)\n",
    "        image_path.append(str(x))"
   ]
  },
  {
   "cell_type": "code",
   "execution_count": 5,
   "id": "c6e9dee0",
   "metadata": {},
   "outputs": [
    {
     "name": "stdout",
     "output_type": "stream",
     "text": [
      "105244\n"
     ]
    }
   ],
   "source": [
    "print(len(image_path))"
   ]
  },
  {
   "cell_type": "code",
   "execution_count": 6,
   "id": "4254d653",
   "metadata": {},
   "outputs": [],
   "source": [
    "for i in range (len(image_path)):\n",
    "    dummy = Image.open(image_path[i])\n",
    "    s = dummy.size\n",
    "    tot1 = s[0]*s[1]\n",
    "    matrix = np.array(dummy)\n",
    "    tot2 = np.count_nonzero(matrix == 0)\n",
    "    \n",
    "    if ((tot2/tot1) >= 0.95):\n",
    "        os.remove(image_path[i])\n",
    "    else:\n",
    "        pass"
   ]
  },
  {
   "cell_type": "code",
   "execution_count": 7,
   "id": "0b5fc644",
   "metadata": {},
   "outputs": [],
   "source": [
    "for i in range(len(image_path)):\n",
    "    try:\n",
    "        image = Image.open(image_path[i])\n",
    "        resized = image.resize((224,224))\n",
    "        resized.save(image_path[i])\n",
    "    except:\n",
    "        pass\n",
    "    "
   ]
  },
  {
   "cell_type": "code",
   "execution_count": 8,
   "id": "38423572",
   "metadata": {},
   "outputs": [],
   "source": [
    "image_result = []\n",
    "\n",
    "with open(\"train_labels - Copy.csv\") as csvfile:\n",
    "    reader = csv.reader(csvfile, quoting=csv.QUOTE_NONNUMERIC) # change contents to floats\n",
    "    for row in reader: # each row is a list\n",
    "        image_result.append(row)\n",
    "        \n",
    "image_result = np.array(image_result)\n",
    "image_result = image_result.astype(int)\n",
    "image_result = image_result.flatten()"
   ]
  },
  {
   "cell_type": "code",
   "execution_count": 9,
   "id": "343df49e",
   "metadata": {},
   "outputs": [],
   "source": [
    "def cp_files_tmp(src, dest,file):\n",
    "        value=random.randint(1,30000)\n",
    "        full_file_name = src \n",
    "        full_destination=os.path.join(dest,file)\n",
    "        if (os.path.isfile(full_file_name)):\n",
    "            while os.path.exists(full_destination):\n",
    "                full_destination =  full_destination+str(value)+\".png\"\n",
    "            shutil.copy(full_file_name, full_destination)\n",
    "\n",
    "\n",
    "for i in range(0,447):\n",
    "    rand_arr1 = []\n",
    "    rand_arr2 = []\n",
    "    \n",
    "   \n",
    "    if (image_result[i] == 0):\n",
    "        dst_dir = 'C:/Users/DHARSINI/AI PROJECTV/train_mri1/plain_tumor'\n",
    "        for file in os.listdir(path[i] + '/FLAIR'):\n",
    "            src=os.path.join(path[i] + '/FLAIR', file)\n",
    "            cp_files_tmp(src, dst_dir,file)\n",
    "    else:\n",
    "        dst_dir = 'C:/Users/DHARSINI/AI PROJECTV/train_mri1/miccai_tumor'\n",
    "        for file in os.listdir(path[i] + '/FLAIR'):\n",
    "            src=os.path.join(path[i] + '/FLAIR', file)\n",
    "            cp_files_tmp(src, dst_dir,file)\n",
    "            "
   ]
  },
  {
   "cell_type": "code",
   "execution_count": 10,
   "id": "bacabf1a",
   "metadata": {},
   "outputs": [],
   "source": [
    "def cp_files_tmp(src, dest,file):\n",
    "        value=random.randint(1,30000)\n",
    "        full_file_name = src \n",
    "        full_destination=os.path.join(dest,file)\n",
    "        if (os.path.isfile(full_file_name)):\n",
    "            while os.path.exists(full_destination):\n",
    "                full_destination =  full_destination+str(value)+\".png\"\n",
    "            shutil.copy(full_file_name, full_destination)\n",
    "\n",
    "\n",
    "for i in range(0,447):\n",
    "    rand_arr1 = []\n",
    "    rand_arr2 = []\n",
    "    \n",
    "   \n",
    "    if (image_result[i] == 0):\n",
    "        dst_dir = 'C:/Users/DHARSINI/AI PROJECTV/train_mri1/plain_tumor'\n",
    "        for file in os.listdir(path[i] + '/T2w'):\n",
    "            src=os.path.join(path[i] + '/T2w', file)\n",
    "            cp_files_tmp(src, dst_dir,file)\n",
    "    else:\n",
    "        dst_dir = 'C:/Users/DHARSINI/AI PROJECTV/train_mri1/miccai_tumor'\n",
    "        for file in os.listdir(path[i] + '/T2w'):\n",
    "            src=os.path.join(path[i] + '/T2w', file)\n",
    "            cp_files_tmp(src, dst_dir,file)\n",
    "            "
   ]
  },
  {
   "cell_type": "code",
   "execution_count": 11,
   "id": "21377ee6",
   "metadata": {},
   "outputs": [],
   "source": [
    "def cp_files_tmp(src, dest,file):\n",
    "        value=random.randint(1,30000)\n",
    "        full_file_name = src \n",
    "        full_destination=os.path.join(dest,file)\n",
    "        if (os.path.isfile(full_file_name)):\n",
    "            while os.path.exists(full_destination):\n",
    "                full_destination =  full_destination+str(value)+\".png\"\n",
    "            shutil.copy(full_file_name, full_destination)\n",
    "\n",
    "\n",
    "for i in range(447, 582):\n",
    "    rand_arr1 = []\n",
    "    rand_arr2 = []\n",
    "    \n",
    "   \n",
    "    if (image_result[i] == 0):\n",
    "        dst_dir = 'C:/Users/DHARSINI/AI PROJECTV/test_mri1/plain_tumor'\n",
    "        for file in os.listdir(path[i] + '/FLAIR'):\n",
    "            src=os.path.join(path[i] + '/FLAIR', file)\n",
    "            cp_files_tmp(src, dst_dir,file)\n",
    "    else:\n",
    "        dst_dir = 'C:/Users/DHARSINI/AI PROJECTV/test_mri1/miccai_tumor'\n",
    "        for file in os.listdir(path[i] + '/FLAIR'):\n",
    "            src=os.path.join(path[i] + '/FLAIR', file)\n",
    "            cp_files_tmp(src, dst_dir,file)\n",
    "            "
   ]
  },
  {
   "cell_type": "code",
   "execution_count": 12,
   "id": "df9c67b8",
   "metadata": {},
   "outputs": [],
   "source": [
    "def cp_files_tmp(src, dest,file):\n",
    "        value=random.randint(1,30000)\n",
    "        full_file_name = src \n",
    "        full_destination=os.path.join(dest,file)\n",
    "        if (os.path.isfile(full_file_name)):\n",
    "            while os.path.exists(full_destination):\n",
    "                full_destination =  full_destination+str(value)+\".png\"\n",
    "            shutil.copy(full_file_name, full_destination)\n",
    "\n",
    "\n",
    "for i in range(447, 582):\n",
    "    rand_arr1 = []\n",
    "    rand_arr2 = []\n",
    "    \n",
    "   \n",
    "    if (image_result[i] == 0):\n",
    "        dst_dir = 'C:/Users/DHARSINI/AI PROJECTV/test_mri1/plain_tumor'\n",
    "        for file in os.listdir(path[i] + '/T2w'):\n",
    "            src=os.path.join(path[i] + '/T2w', file)\n",
    "            cp_files_tmp(src, dst_dir,file)\n",
    "    else:\n",
    "        dst_dir = 'C:/Users/DHARSINI/AI PROJECTV/test_mri1/miccai_tumor'\n",
    "        for file in os.listdir(path[i] + '/T2w'):\n",
    "            src=os.path.join(path[i] + '/T2w', file)\n",
    "            cp_files_tmp(src, dst_dir,file)"
   ]
  },
  {
   "cell_type": "code",
   "execution_count": 13,
   "id": "d3b5b5c6",
   "metadata": {},
   "outputs": [],
   "source": [
    "train=ImageDataGenerator(rescale=1/255)\n",
    "test=ImageDataGenerator(rescale=1/255)"
   ]
  },
  {
   "cell_type": "code",
   "execution_count": 14,
   "id": "491a0615",
   "metadata": {},
   "outputs": [
    {
     "name": "stdout",
     "output_type": "stream",
     "text": [
      "Found 74322 images belonging to 2 classes.\n",
      "Found 30922 images belonging to 2 classes.\n"
     ]
    }
   ],
   "source": [
    "train_dataset=train.flow_from_directory('C:/Users/DHARSINI/AI PROJECTV/train_mri1/',\n",
    "                                       target_size=(224,224),\n",
    "                                       class_mode='binary')\n",
    "test_dataset=test.flow_from_directory('C:/Users/DHARSINI/AI PROJECTV/test_mri1/',\n",
    "                                       target_size=(224,224),\n",
    "                                       class_mode='binary')"
   ]
  },
  {
   "cell_type": "code",
   "execution_count": 15,
   "id": "8180df34",
   "metadata": {},
   "outputs": [
    {
     "data": {
      "text/plain": [
       "{'miccai_tumor': 0, 'plain_tumor': 1}"
      ]
     },
     "execution_count": 15,
     "metadata": {},
     "output_type": "execute_result"
    }
   ],
   "source": [
    "test_dataset.class_indices"
   ]
  },
  {
   "cell_type": "code",
   "execution_count": 26,
   "id": "ddcfe13d",
   "metadata": {},
   "outputs": [],
   "source": [
    "base_model = InceptionV3(input_shape = (224, 224, 3), include_top = False, weights = 'imagenet')"
   ]
  },
  {
   "cell_type": "code",
   "execution_count": 27,
   "id": "22b81d3f",
   "metadata": {},
   "outputs": [],
   "source": [
    "for layer in base_model.layers:\n",
    "    layer.trainable = False"
   ]
  },
  {
   "cell_type": "code",
   "execution_count": 28,
   "id": "b0786bd2",
   "metadata": {},
   "outputs": [],
   "source": [
    "\n",
    "\n",
    "x = layers.Flatten()(base_model.output)\n",
    "x = layers.Dense(1024, activation='relu')(x)\n",
    "x = layers.Dropout(0.2)(x)\n",
    "\n",
    "# Add a final sigmoid layer with 1 node for classification output\n",
    "x = layers.Dense(1, activation='sigmoid')(x)\n",
    "\n",
    "model = tf.keras.models.Model(base_model.input, x)\n",
    "\n",
    "model.compile(optimizer = RMSprop(learning_rate=0.0001), loss = 'binary_crossentropy', metrics = ['acc'])"
   ]
  },
  {
   "cell_type": "code",
   "execution_count": 29,
   "id": "e696e8d4",
   "metadata": {},
   "outputs": [
    {
     "name": "stdout",
     "output_type": "stream",
     "text": [
      "Epoch 1/10\n",
      "100/100 [==============================] - 346s 3s/step - loss: 1.8726 - acc: 0.5403\n",
      "Epoch 2/10\n",
      "100/100 [==============================] - 330s 3s/step - loss: 0.7029 - acc: 0.5866\n",
      "Epoch 3/10\n",
      "100/100 [==============================] - 328s 3s/step - loss: 0.6820 - acc: 0.5781\n",
      "Epoch 4/10\n",
      "100/100 [==============================] - 345s 3s/step - loss: 0.6753 - acc: 0.6051\n",
      "Epoch 5/10\n",
      "100/100 [==============================] - 381s 4s/step - loss: 0.6687 - acc: 0.6084\n",
      "Epoch 6/10\n",
      "100/100 [==============================] - 374s 4s/step - loss: 0.6573 - acc: 0.6131\n",
      "Epoch 7/10\n",
      "100/100 [==============================] - 388s 4s/step - loss: 0.6501 - acc: 0.6206\n",
      "Epoch 8/10\n",
      "100/100 [==============================] - 373s 4s/step - loss: 0.6373 - acc: 0.6253\n",
      "Epoch 9/10\n",
      "100/100 [==============================] - 270s 3s/step - loss: 0.6286 - acc: 0.6306\n",
      "Epoch 10/10\n",
      "100/100 [==============================] - 254s 3s/step - loss: 0.6324 - acc: 0.6350\n"
     ]
    }
   ],
   "source": [
    "inc_history = model.fit(train_dataset,steps_per_epoch = 100, epochs = 10)\n"
   ]
  },
  {
   "cell_type": "code",
   "execution_count": 30,
   "id": "18cfac3a",
   "metadata": {},
   "outputs": [
    {
     "name": "stdout",
     "output_type": "stream",
     "text": [
      "967/967 [==============================] - 1965s 2s/step - loss: 0.7359 - acc: 0.4986\n"
     ]
    },
    {
     "data": {
      "text/plain": [
       "[0.7359082698822021, 0.49860939383506775]"
      ]
     },
     "execution_count": 30,
     "metadata": {},
     "output_type": "execute_result"
    }
   ],
   "source": [
    "model.evaluate(test_dataset)"
   ]
  },
  {
   "cell_type": "code",
   "execution_count": null,
   "id": "eb9494ea",
   "metadata": {},
   "outputs": [],
   "source": []
  }
 ],
 "metadata": {
  "kernelspec": {
   "display_name": "Python 3",
   "language": "python",
   "name": "python3"
  },
  "language_info": {
   "codemirror_mode": {
    "name": "ipython",
    "version": 3
   },
   "file_extension": ".py",
   "mimetype": "text/x-python",
   "name": "python",
   "nbconvert_exporter": "python",
   "pygments_lexer": "ipython3",
   "version": "3.8.8"
  }
 },
 "nbformat": 4,
 "nbformat_minor": 5
}
